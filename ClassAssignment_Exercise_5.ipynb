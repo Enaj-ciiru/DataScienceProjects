{
 "cells": [
  {
   "cell_type": "code",
   "execution_count": 57,
   "id": "dbcc6fd3",
   "metadata": {},
   "outputs": [],
   "source": [
    "import pandas as pd\n",
    "import numpy as np"
   ]
  },
  {
   "cell_type": "code",
   "execution_count": 58,
   "id": "fc17051f",
   "metadata": {},
   "outputs": [
    {
     "data": {
      "text/html": [
       "<div>\n",
       "<style scoped>\n",
       "    .dataframe tbody tr th:only-of-type {\n",
       "        vertical-align: middle;\n",
       "    }\n",
       "\n",
       "    .dataframe tbody tr th {\n",
       "        vertical-align: top;\n",
       "    }\n",
       "\n",
       "    .dataframe thead th {\n",
       "        text-align: right;\n",
       "    }\n",
       "</style>\n",
       "<table border=\"1\" class=\"dataframe\">\n",
       "  <thead>\n",
       "    <tr style=\"text-align: right;\">\n",
       "      <th></th>\n",
       "      <th>longitude</th>\n",
       "      <th>latitude</th>\n",
       "      <th>housing_median_age</th>\n",
       "      <th>total_rooms</th>\n",
       "      <th>total_bedrooms</th>\n",
       "      <th>population</th>\n",
       "      <th>households</th>\n",
       "      <th>median_income</th>\n",
       "      <th>median_house_value</th>\n",
       "      <th>ocean_proximity</th>\n",
       "    </tr>\n",
       "  </thead>\n",
       "  <tbody>\n",
       "    <tr>\n",
       "      <th>0</th>\n",
       "      <td>-122.23</td>\n",
       "      <td>37.88</td>\n",
       "      <td>41.0</td>\n",
       "      <td>880.0</td>\n",
       "      <td>129.0</td>\n",
       "      <td>322.0</td>\n",
       "      <td>126.0</td>\n",
       "      <td>8.3252</td>\n",
       "      <td>452600.0</td>\n",
       "      <td>NEAR BAY</td>\n",
       "    </tr>\n",
       "    <tr>\n",
       "      <th>1</th>\n",
       "      <td>-122.22</td>\n",
       "      <td>37.86</td>\n",
       "      <td>21.0</td>\n",
       "      <td>7099.0</td>\n",
       "      <td>1106.0</td>\n",
       "      <td>2401.0</td>\n",
       "      <td>1138.0</td>\n",
       "      <td>8.3014</td>\n",
       "      <td>358500.0</td>\n",
       "      <td>NEAR BAY</td>\n",
       "    </tr>\n",
       "    <tr>\n",
       "      <th>2</th>\n",
       "      <td>-122.24</td>\n",
       "      <td>37.85</td>\n",
       "      <td>52.0</td>\n",
       "      <td>1467.0</td>\n",
       "      <td>190.0</td>\n",
       "      <td>496.0</td>\n",
       "      <td>177.0</td>\n",
       "      <td>7.2574</td>\n",
       "      <td>352100.0</td>\n",
       "      <td>NEAR BAY</td>\n",
       "    </tr>\n",
       "    <tr>\n",
       "      <th>3</th>\n",
       "      <td>-122.25</td>\n",
       "      <td>37.85</td>\n",
       "      <td>52.0</td>\n",
       "      <td>1274.0</td>\n",
       "      <td>235.0</td>\n",
       "      <td>558.0</td>\n",
       "      <td>219.0</td>\n",
       "      <td>5.6431</td>\n",
       "      <td>341300.0</td>\n",
       "      <td>NEAR BAY</td>\n",
       "    </tr>\n",
       "    <tr>\n",
       "      <th>4</th>\n",
       "      <td>-122.25</td>\n",
       "      <td>37.85</td>\n",
       "      <td>52.0</td>\n",
       "      <td>1627.0</td>\n",
       "      <td>280.0</td>\n",
       "      <td>565.0</td>\n",
       "      <td>259.0</td>\n",
       "      <td>3.8462</td>\n",
       "      <td>342200.0</td>\n",
       "      <td>NEAR BAY</td>\n",
       "    </tr>\n",
       "  </tbody>\n",
       "</table>\n",
       "</div>"
      ],
      "text/plain": [
       "   longitude  latitude  housing_median_age  total_rooms  total_bedrooms  \\\n",
       "0    -122.23     37.88                41.0        880.0           129.0   \n",
       "1    -122.22     37.86                21.0       7099.0          1106.0   \n",
       "2    -122.24     37.85                52.0       1467.0           190.0   \n",
       "3    -122.25     37.85                52.0       1274.0           235.0   \n",
       "4    -122.25     37.85                52.0       1627.0           280.0   \n",
       "\n",
       "   population  households  median_income  median_house_value ocean_proximity  \n",
       "0       322.0       126.0         8.3252            452600.0        NEAR BAY  \n",
       "1      2401.0      1138.0         8.3014            358500.0        NEAR BAY  \n",
       "2       496.0       177.0         7.2574            352100.0        NEAR BAY  \n",
       "3       558.0       219.0         5.6431            341300.0        NEAR BAY  \n",
       "4       565.0       259.0         3.8462            342200.0        NEAR BAY  "
      ]
     },
     "execution_count": 58,
     "metadata": {},
     "output_type": "execute_result"
    }
   ],
   "source": [
    "data = pd.read_csv('testing.csv')\n",
    "data.head()"
   ]
  },
  {
   "cell_type": "code",
   "execution_count": 59,
   "id": "09ee4f96",
   "metadata": {},
   "outputs": [
    {
     "data": {
      "text/plain": [
       "(20640, 10)"
      ]
     },
     "execution_count": 59,
     "metadata": {},
     "output_type": "execute_result"
    }
   ],
   "source": [
    "data.shape"
   ]
  },
  {
   "cell_type": "markdown",
   "id": "38044b3d",
   "metadata": {},
   "source": [
    "The dataset contains 20640 observations and 10 attributes (9 predictors and 1 response). Below is a list of the variables with descriptions taken from the original Kaggle site given above.\n",
    "\n",
    "* **longitude**: A measure of how far west a house is; a higher value is farther west\n",
    "* **latitude**: A measure of how far north a house is; a higher value is farther north\n",
    "* **housing_median_age**: Median age of a house within a block; a lower number is a newer building\n",
    "* **total_rooms**: Total number of rooms within a block\n",
    "* **total_bedrooms**: Total number of bedrooms within a block\n",
    "* **population**: Total number of people residing within a block\n",
    "* **households**: Total number of households, a group of people residing within a home unit, for a block\n",
    "* **median_income**: Median income for households within a block of houses (measured in tens of thousands of US Dollars)\n",
    "* **ocean_proximity**: Location of the house w.r.t ocean/sea\n",
    "* **median_house_value**: Median house value for households within a block (measured in US Dollars)"
   ]
  },
  {
   "cell_type": "code",
   "execution_count": 60,
   "id": "21654f64",
   "metadata": {},
   "outputs": [
    {
     "data": {
      "text/plain": [
       "(20640, 10)"
      ]
     },
     "execution_count": 60,
     "metadata": {},
     "output_type": "execute_result"
    }
   ],
   "source": [
    "data.drop_duplicates(keep='first', inplace=True) #There's no duplicates in the data\n",
    "data.shape"
   ]
  },
  {
   "cell_type": "code",
   "execution_count": 61,
   "id": "4559b6ee",
   "metadata": {},
   "outputs": [],
   "source": [
    "#Split the data into test and train data\n",
    "\n",
    "from sklearn.model_selection import train_test_split"
   ]
  },
  {
   "cell_type": "code",
   "execution_count": 62,
   "id": "d10d19f6",
   "metadata": {},
   "outputs": [],
   "source": [
    "train, test = train_test_split(data, test_size =0.1, random_state = 20) #using 10% of the data as the test data"
   ]
  },
  {
   "cell_type": "code",
   "execution_count": 63,
   "id": "534e6033",
   "metadata": {},
   "outputs": [
    {
     "name": "stdout",
     "output_type": "stream",
     "text": [
      "The shape of train data is: 18576\n",
      "The shape of test data is: 2064\n"
     ]
    }
   ],
   "source": [
    "print('The shape of train data is: {}\\nThe shape of test data is: {}'.format(train.shape[0], test.shape[0]))"
   ]
  },
  {
   "cell_type": "code",
   "execution_count": 64,
   "id": "61235371",
   "metadata": {},
   "outputs": [],
   "source": [
    "train_data = train.copy()\n",
    "test_data = test.copy()"
   ]
  },
  {
   "cell_type": "markdown",
   "id": "19a02dc8",
   "metadata": {},
   "source": [
    "1. Perform Your EDA\n",
    "2. Check and Fill Missing Data"
   ]
  },
  {
   "cell_type": "code",
   "execution_count": 65,
   "id": "71686056",
   "metadata": {},
   "outputs": [
    {
     "data": {
      "text/plain": [
       "longitude               0\n",
       "latitude                0\n",
       "housing_median_age      0\n",
       "total_rooms             0\n",
       "total_bedrooms        186\n",
       "population              0\n",
       "households              0\n",
       "median_income           0\n",
       "median_house_value      0\n",
       "ocean_proximity         0\n",
       "dtype: int64"
      ]
     },
     "execution_count": 65,
     "metadata": {},
     "output_type": "execute_result"
    }
   ],
   "source": [
    "train_data.isna().sum()"
   ]
  },
  {
   "cell_type": "code",
   "execution_count": 66,
   "id": "c759b145",
   "metadata": {},
   "outputs": [
    {
     "data": {
      "text/plain": [
       "longitude              0\n",
       "latitude               0\n",
       "housing_median_age     0\n",
       "total_rooms            0\n",
       "total_bedrooms        21\n",
       "population             0\n",
       "households             0\n",
       "median_income          0\n",
       "median_house_value     0\n",
       "ocean_proximity        0\n",
       "dtype: int64"
      ]
     },
     "execution_count": 66,
     "metadata": {},
     "output_type": "execute_result"
    }
   ],
   "source": [
    "test_data.isna().sum()"
   ]
  },
  {
   "cell_type": "code",
   "execution_count": 67,
   "id": "4a91ee13",
   "metadata": {},
   "outputs": [],
   "source": [
    "#Filling Missing Value\n",
    "train_median = train_data['total_bedrooms'].median()\n",
    "\n",
    "train_data['total_bedrooms'].fillna(train_median, inplace=True)\n",
    "test_data['total_bedrooms'].fillna(train_median, inplace=True)"
   ]
  },
  {
   "cell_type": "markdown",
   "id": "904e9e7b",
   "metadata": {},
   "source": [
    "3. Feature Engineeriing"
   ]
  },
  {
   "cell_type": "code",
   "execution_count": 68,
   "id": "7ab786cf",
   "metadata": {},
   "outputs": [
    {
     "data": {
      "text/plain": [
       "<1H OCEAN     8231\n",
       "INLAND        5896\n",
       "NEAR OCEAN    2384\n",
       "NEAR BAY      2061\n",
       "ISLAND           4\n",
       "Name: ocean_proximity, dtype: int64"
      ]
     },
     "execution_count": 68,
     "metadata": {},
     "output_type": "execute_result"
    }
   ],
   "source": [
    "train_data['ocean_proximity'].value_counts()"
   ]
  },
  {
   "cell_type": "code",
   "execution_count": 69,
   "id": "62d1918f",
   "metadata": {},
   "outputs": [
    {
     "data": {
      "text/plain": [
       "<1H OCEAN     905\n",
       "INLAND        655\n",
       "NEAR OCEAN    274\n",
       "NEAR BAY      229\n",
       "ISLAND          1\n",
       "Name: ocean_proximity, dtype: int64"
      ]
     },
     "execution_count": 69,
     "metadata": {},
     "output_type": "execute_result"
    }
   ],
   "source": [
    "test_data['ocean_proximity'].value_counts()"
   ]
  },
  {
   "cell_type": "code",
   "execution_count": 70,
   "id": "0eb2d845",
   "metadata": {},
   "outputs": [],
   "source": [
    "def convert_ocean(DF):\n",
    "    DF['ocean_proximity'].replace({'ISLAND': 7, 'NEAR BAY': 4, 'NEAR OCEAN': 3, '<1H OCEAN': 2, 'INLAND': 1}, inplace=True)"
   ]
  },
  {
   "cell_type": "code",
   "execution_count": 71,
   "id": "fc8e02de",
   "metadata": {},
   "outputs": [],
   "source": [
    "convert_ocean(train_data)"
   ]
  },
  {
   "cell_type": "code",
   "execution_count": 72,
   "id": "a5587979",
   "metadata": {},
   "outputs": [],
   "source": [
    "convert_ocean(test_data)"
   ]
  },
  {
   "cell_type": "code",
   "execution_count": 73,
   "id": "b032236d",
   "metadata": {},
   "outputs": [
    {
     "data": {
      "text/html": [
       "<div>\n",
       "<style scoped>\n",
       "    .dataframe tbody tr th:only-of-type {\n",
       "        vertical-align: middle;\n",
       "    }\n",
       "\n",
       "    .dataframe tbody tr th {\n",
       "        vertical-align: top;\n",
       "    }\n",
       "\n",
       "    .dataframe thead th {\n",
       "        text-align: right;\n",
       "    }\n",
       "</style>\n",
       "<table border=\"1\" class=\"dataframe\">\n",
       "  <thead>\n",
       "    <tr style=\"text-align: right;\">\n",
       "      <th></th>\n",
       "      <th>longitude</th>\n",
       "      <th>latitude</th>\n",
       "      <th>housing_median_age</th>\n",
       "      <th>total_rooms</th>\n",
       "      <th>total_bedrooms</th>\n",
       "      <th>population</th>\n",
       "      <th>households</th>\n",
       "      <th>median_income</th>\n",
       "      <th>median_house_value</th>\n",
       "      <th>ocean_proximity</th>\n",
       "    </tr>\n",
       "  </thead>\n",
       "  <tbody>\n",
       "    <tr>\n",
       "      <th>8101</th>\n",
       "      <td>-118.21</td>\n",
       "      <td>33.80</td>\n",
       "      <td>41.0</td>\n",
       "      <td>1251.0</td>\n",
       "      <td>279.0</td>\n",
       "      <td>1053.0</td>\n",
       "      <td>278.0</td>\n",
       "      <td>3.2778</td>\n",
       "      <td>150800.0</td>\n",
       "      <td>3</td>\n",
       "    </tr>\n",
       "    <tr>\n",
       "      <th>9757</th>\n",
       "      <td>-121.44</td>\n",
       "      <td>36.51</td>\n",
       "      <td>31.0</td>\n",
       "      <td>1636.0</td>\n",
       "      <td>380.0</td>\n",
       "      <td>1468.0</td>\n",
       "      <td>339.0</td>\n",
       "      <td>3.2219</td>\n",
       "      <td>114700.0</td>\n",
       "      <td>2</td>\n",
       "    </tr>\n",
       "    <tr>\n",
       "      <th>16837</th>\n",
       "      <td>-122.48</td>\n",
       "      <td>37.59</td>\n",
       "      <td>29.0</td>\n",
       "      <td>5889.0</td>\n",
       "      <td>959.0</td>\n",
       "      <td>2784.0</td>\n",
       "      <td>923.0</td>\n",
       "      <td>5.3991</td>\n",
       "      <td>273000.0</td>\n",
       "      <td>3</td>\n",
       "    </tr>\n",
       "    <tr>\n",
       "      <th>11742</th>\n",
       "      <td>-121.15</td>\n",
       "      <td>38.91</td>\n",
       "      <td>23.0</td>\n",
       "      <td>1654.0</td>\n",
       "      <td>299.0</td>\n",
       "      <td>787.0</td>\n",
       "      <td>299.0</td>\n",
       "      <td>4.2723</td>\n",
       "      <td>193100.0</td>\n",
       "      <td>1</td>\n",
       "    </tr>\n",
       "    <tr>\n",
       "      <th>1871</th>\n",
       "      <td>-119.95</td>\n",
       "      <td>38.94</td>\n",
       "      <td>24.0</td>\n",
       "      <td>2180.0</td>\n",
       "      <td>517.0</td>\n",
       "      <td>755.0</td>\n",
       "      <td>223.0</td>\n",
       "      <td>2.5875</td>\n",
       "      <td>173400.0</td>\n",
       "      <td>1</td>\n",
       "    </tr>\n",
       "  </tbody>\n",
       "</table>\n",
       "</div>"
      ],
      "text/plain": [
       "       longitude  latitude  housing_median_age  total_rooms  total_bedrooms  \\\n",
       "8101     -118.21     33.80                41.0       1251.0           279.0   \n",
       "9757     -121.44     36.51                31.0       1636.0           380.0   \n",
       "16837    -122.48     37.59                29.0       5889.0           959.0   \n",
       "11742    -121.15     38.91                23.0       1654.0           299.0   \n",
       "1871     -119.95     38.94                24.0       2180.0           517.0   \n",
       "\n",
       "       population  households  median_income  median_house_value  \\\n",
       "8101       1053.0       278.0         3.2778            150800.0   \n",
       "9757       1468.0       339.0         3.2219            114700.0   \n",
       "16837      2784.0       923.0         5.3991            273000.0   \n",
       "11742       787.0       299.0         4.2723            193100.0   \n",
       "1871        755.0       223.0         2.5875            173400.0   \n",
       "\n",
       "       ocean_proximity  \n",
       "8101                 3  \n",
       "9757                 2  \n",
       "16837                3  \n",
       "11742                1  \n",
       "1871                 1  "
      ]
     },
     "execution_count": 73,
     "metadata": {},
     "output_type": "execute_result"
    }
   ],
   "source": [
    "train_data.head()"
   ]
  },
  {
   "cell_type": "markdown",
   "id": "4dbd93c6",
   "metadata": {},
   "source": [
    "4. Preprocess your Data"
   ]
  },
  {
   "cell_type": "code",
   "execution_count": 74,
   "id": "cc0ad9f8",
   "metadata": {},
   "outputs": [
    {
     "data": {
      "text/plain": [
       "Index(['longitude', 'latitude', 'housing_median_age', 'total_rooms',\n",
       "       'total_bedrooms', 'population', 'households', 'median_income',\n",
       "       'median_house_value', 'ocean_proximity'],\n",
       "      dtype='object')"
      ]
     },
     "execution_count": 74,
     "metadata": {},
     "output_type": "execute_result"
    }
   ],
   "source": [
    "train_data.columns"
   ]
  },
  {
   "cell_type": "code",
   "execution_count": 75,
   "id": "e73b39e1",
   "metadata": {},
   "outputs": [],
   "source": [
    "input_col = ['longitude', 'latitude', 'housing_median_age', 'total_rooms', 'total_bedrooms', 'population', 'households', \n",
    "             'median_income','ocean_proximity']\n",
    "\n",
    "target_col = 'median_house_value'"
   ]
  },
  {
   "cell_type": "code",
   "execution_count": 88,
   "id": "952831b4",
   "metadata": {},
   "outputs": [],
   "source": [
    "from sklearn.preprocessing import MinMaxScaler"
   ]
  },
  {
   "cell_type": "code",
   "execution_count": 89,
   "id": "657cadb3",
   "metadata": {},
   "outputs": [],
   "source": [
    "scaler = MinMaxScaler()"
   ]
  },
  {
   "cell_type": "code",
   "execution_count": 90,
   "id": "35fefcd0",
   "metadata": {},
   "outputs": [],
   "source": [
    "train_data[input_col] = scaler.fit_transform(train_data[input_col])\n",
    "test_data[input_col] = scaler.transform(test_data[input_col])"
   ]
  },
  {
   "cell_type": "code",
   "execution_count": 91,
   "id": "c479b09f",
   "metadata": {},
   "outputs": [
    {
     "data": {
      "text/html": [
       "<div>\n",
       "<style scoped>\n",
       "    .dataframe tbody tr th:only-of-type {\n",
       "        vertical-align: middle;\n",
       "    }\n",
       "\n",
       "    .dataframe tbody tr th {\n",
       "        vertical-align: top;\n",
       "    }\n",
       "\n",
       "    .dataframe thead th {\n",
       "        text-align: right;\n",
       "    }\n",
       "</style>\n",
       "<table border=\"1\" class=\"dataframe\">\n",
       "  <thead>\n",
       "    <tr style=\"text-align: right;\">\n",
       "      <th></th>\n",
       "      <th>longitude</th>\n",
       "      <th>latitude</th>\n",
       "      <th>housing_median_age</th>\n",
       "      <th>total_rooms</th>\n",
       "      <th>total_bedrooms</th>\n",
       "      <th>population</th>\n",
       "      <th>households</th>\n",
       "      <th>median_income</th>\n",
       "      <th>median_house_value</th>\n",
       "      <th>ocean_proximity</th>\n",
       "    </tr>\n",
       "  </thead>\n",
       "  <tbody>\n",
       "    <tr>\n",
       "      <th>8101</th>\n",
       "      <td>0.622718</td>\n",
       "      <td>0.133900</td>\n",
       "      <td>0.784314</td>\n",
       "      <td>0.031767</td>\n",
       "      <td>0.043141</td>\n",
       "      <td>0.036761</td>\n",
       "      <td>0.045552</td>\n",
       "      <td>0.191577</td>\n",
       "      <td>150800.0</td>\n",
       "      <td>0.333333</td>\n",
       "    </tr>\n",
       "    <tr>\n",
       "      <th>9757</th>\n",
       "      <td>0.295132</td>\n",
       "      <td>0.421892</td>\n",
       "      <td>0.588235</td>\n",
       "      <td>0.041559</td>\n",
       "      <td>0.058814</td>\n",
       "      <td>0.051290</td>\n",
       "      <td>0.055583</td>\n",
       "      <td>0.187722</td>\n",
       "      <td>114700.0</td>\n",
       "      <td>0.166667</td>\n",
       "    </tr>\n",
       "    <tr>\n",
       "      <th>16837</th>\n",
       "      <td>0.189655</td>\n",
       "      <td>0.536663</td>\n",
       "      <td>0.549020</td>\n",
       "      <td>0.149728</td>\n",
       "      <td>0.148665</td>\n",
       "      <td>0.097364</td>\n",
       "      <td>0.151620</td>\n",
       "      <td>0.337871</td>\n",
       "      <td>273000.0</td>\n",
       "      <td>0.333333</td>\n",
       "    </tr>\n",
       "    <tr>\n",
       "      <th>11742</th>\n",
       "      <td>0.324544</td>\n",
       "      <td>0.676939</td>\n",
       "      <td>0.431373</td>\n",
       "      <td>0.042016</td>\n",
       "      <td>0.046245</td>\n",
       "      <td>0.027448</td>\n",
       "      <td>0.049005</td>\n",
       "      <td>0.260162</td>\n",
       "      <td>193100.0</td>\n",
       "      <td>0.000000</td>\n",
       "    </tr>\n",
       "    <tr>\n",
       "      <th>1871</th>\n",
       "      <td>0.446247</td>\n",
       "      <td>0.680128</td>\n",
       "      <td>0.450980</td>\n",
       "      <td>0.055394</td>\n",
       "      <td>0.080074</td>\n",
       "      <td>0.026328</td>\n",
       "      <td>0.036507</td>\n",
       "      <td>0.143970</td>\n",
       "      <td>173400.0</td>\n",
       "      <td>0.000000</td>\n",
       "    </tr>\n",
       "  </tbody>\n",
       "</table>\n",
       "</div>"
      ],
      "text/plain": [
       "       longitude  latitude  housing_median_age  total_rooms  total_bedrooms  \\\n",
       "8101    0.622718  0.133900            0.784314     0.031767        0.043141   \n",
       "9757    0.295132  0.421892            0.588235     0.041559        0.058814   \n",
       "16837   0.189655  0.536663            0.549020     0.149728        0.148665   \n",
       "11742   0.324544  0.676939            0.431373     0.042016        0.046245   \n",
       "1871    0.446247  0.680128            0.450980     0.055394        0.080074   \n",
       "\n",
       "       population  households  median_income  median_house_value  \\\n",
       "8101     0.036761    0.045552       0.191577            150800.0   \n",
       "9757     0.051290    0.055583       0.187722            114700.0   \n",
       "16837    0.097364    0.151620       0.337871            273000.0   \n",
       "11742    0.027448    0.049005       0.260162            193100.0   \n",
       "1871     0.026328    0.036507       0.143970            173400.0   \n",
       "\n",
       "       ocean_proximity  \n",
       "8101          0.333333  \n",
       "9757          0.166667  \n",
       "16837         0.333333  \n",
       "11742         0.000000  \n",
       "1871          0.000000  "
      ]
     },
     "execution_count": 91,
     "metadata": {},
     "output_type": "execute_result"
    }
   ],
   "source": [
    "train_data.head()"
   ]
  },
  {
   "cell_type": "markdown",
   "id": "d8febd49",
   "metadata": {},
   "source": [
    "5. Creating The Holdout set"
   ]
  },
  {
   "cell_type": "code",
   "execution_count": 92,
   "id": "825a992d",
   "metadata": {},
   "outputs": [],
   "source": [
    "X = train_data[input_col] #Splitting the train data into train and validation set\n",
    "y = train_data[target_col]"
   ]
  },
  {
   "cell_type": "code",
   "execution_count": 94,
   "id": "94feb0c6",
   "metadata": {},
   "outputs": [],
   "source": [
    "X_train, X_val, y_train, y_val = train_test_split(X, y, test_size = 0.2, random_state=42)"
   ]
  },
  {
   "cell_type": "code",
   "execution_count": 95,
   "id": "b9fbfe91",
   "metadata": {},
   "outputs": [
    {
     "name": "stdout",
     "output_type": "stream",
     "text": [
      "The shape of Train set is: 14860\n",
      "The shape of Validation set is: 3716\n"
     ]
    }
   ],
   "source": [
    "print(f'The shape of Train set is: {X_train.shape[0]}\\nThe shape of Validation set is: {X_val.shape[0]}')"
   ]
  },
  {
   "cell_type": "markdown",
   "id": "be75c2b5",
   "metadata": {},
   "source": [
    "6. Creating A Baseline Model"
   ]
  },
  {
   "cell_type": "code",
   "execution_count": 96,
   "id": "7f903cb7",
   "metadata": {},
   "outputs": [],
   "source": [
    "from sklearn.linear_model import LinearRegression"
   ]
  },
  {
   "cell_type": "code",
   "execution_count": 97,
   "id": "bb6273a1",
   "metadata": {},
   "outputs": [],
   "source": [
    "model = LinearRegression()"
   ]
  },
  {
   "cell_type": "code",
   "execution_count": 98,
   "id": "8953c87e",
   "metadata": {},
   "outputs": [
    {
     "data": {
      "text/plain": [
       "LinearRegression()"
      ]
     },
     "execution_count": 98,
     "metadata": {},
     "output_type": "execute_result"
    }
   ],
   "source": [
    "model.fit(X_train, y_train)"
   ]
  },
  {
   "cell_type": "code",
   "execution_count": 104,
   "id": "3c2cddc0",
   "metadata": {},
   "outputs": [],
   "source": [
    "y_pred_train = model.predict(X_train)"
   ]
  },
  {
   "cell_type": "code",
   "execution_count": 99,
   "id": "37d2adf5",
   "metadata": {},
   "outputs": [],
   "source": [
    "y_pred = model.predict(X_val)"
   ]
  },
  {
   "cell_type": "code",
   "execution_count": 102,
   "id": "9bc0f69d",
   "metadata": {},
   "outputs": [],
   "source": [
    "from sklearn.metrics import mean_squared_error"
   ]
  },
  {
   "cell_type": "code",
   "execution_count": 103,
   "id": "47730c4d",
   "metadata": {},
   "outputs": [
    {
     "data": {
      "text/plain": [
       "68455.0775609644"
      ]
     },
     "execution_count": 103,
     "metadata": {},
     "output_type": "execute_result"
    }
   ],
   "source": [
    "np.sqrt(mean_squared_error(y_val, y_pred)) #validation RMSE"
   ]
  },
  {
   "cell_type": "code",
   "execution_count": 105,
   "id": "32797fee",
   "metadata": {},
   "outputs": [
    {
     "data": {
      "text/plain": [
       "69208.92006302692"
      ]
     },
     "execution_count": 105,
     "metadata": {},
     "output_type": "execute_result"
    }
   ],
   "source": [
    "np.sqrt(mean_squared_error(y_train, y_pred_train)) #train RMSE"
   ]
  },
  {
   "cell_type": "markdown",
   "id": "c5e2a2e2",
   "metadata": {},
   "source": [
    "Our model is severally underfitting "
   ]
  },
  {
   "cell_type": "code",
   "execution_count": null,
   "id": "b56f97d1",
   "metadata": {},
   "outputs": [],
   "source": []
  }
 ],
 "metadata": {
  "kernelspec": {
   "display_name": "Python 3 (ipykernel)",
   "language": "python",
   "name": "python3"
  },
  "language_info": {
   "codemirror_mode": {
    "name": "ipython",
    "version": 3
   },
   "file_extension": ".py",
   "mimetype": "text/x-python",
   "name": "python",
   "nbconvert_exporter": "python",
   "pygments_lexer": "ipython3",
   "version": "3.9.7"
  }
 },
 "nbformat": 4,
 "nbformat_minor": 5
}
